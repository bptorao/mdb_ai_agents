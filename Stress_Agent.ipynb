{
 "cells": [
  {
   "cell_type": "code",
   "execution_count": 1,
   "id": "fb1a1377-4f10-45d4-a535-48c946a8d7f1",
   "metadata": {},
   "outputs": [],
   "source": [
    "# imports\n",
    "\n",
    "import os\n",
    "import requests\n",
    "from dotenv import load_dotenv\n",
    "from bs4 import BeautifulSoup\n",
    "from IPython.display import Markdown, display\n",
    "import openai"
   ]
  },
  {
   "cell_type": "code",
   "execution_count": 5,
   "id": "6a4041ab-e78a-4d29-8856-873f3b7376b4",
   "metadata": {},
   "outputs": [],
   "source": [
    "load_dotenv(\"C:/Users/maria/Downloads/.env.txt\")\n",
    "api_key = os.getenv('OPENAI_API_KEY')"
   ]
  },
  {
   "cell_type": "code",
   "execution_count": null,
   "id": "87e65b19-df56-44c3-876c-867146179ca2",
   "metadata": {},
   "outputs": [],
   "source": [
    "# se carga la base de datos\n",
    "import pandas as pd\n",
    "bd = pd.read_csv(\"Downloads/stressBD.csv\")"
   ]
  },
  {
   "cell_type": "code",
   "execution_count": null,
   "id": "c441500d-94f3-4ee4-be42-7d8f569e496c",
   "metadata": {},
   "outputs": [],
   "source": [
    "# Se pide al usuario ingresar estado civil, edad, contrato laboral y una frase de como se siente"
   ]
  },
  {
   "cell_type": "code",
   "execution_count": null,
   "id": "e99beee8-2603-40a7-be80-182bdf456a0b",
   "metadata": {},
   "outputs": [],
   "source": [
    "# Se envia la respuesta a openai y se consulta si la frase refleja estar estresado"
   ]
  },
  {
   "cell_type": "code",
   "execution_count": null,
   "id": "9727ef5c-42c6-474c-8f86-0a8fe3378a4e",
   "metadata": {},
   "outputs": [],
   "source": [
    "# Se filtra la base de datos según los datos de la persona"
   ]
  },
  {
   "cell_type": "code",
   "execution_count": null,
   "id": "091855fe-4a96-40e0-8cd5-47fa68e530db",
   "metadata": {},
   "outputs": [],
   "source": [
    "# Si la persona está estresada se elije de la base de datos las acciones que puede realizar para mejorar su estres"
   ]
  }
 ],
 "metadata": {
  "kernelspec": {
   "display_name": "Python 3 (ipykernel)",
   "language": "python",
   "name": "python3"
  },
  "language_info": {
   "codemirror_mode": {
    "name": "ipython",
    "version": 3
   },
   "file_extension": ".py",
   "mimetype": "text/x-python",
   "name": "python",
   "nbconvert_exporter": "python",
   "pygments_lexer": "ipython3",
   "version": "3.12.7"
  }
 },
 "nbformat": 4,
 "nbformat_minor": 5
}
