{
 "cells": [
  {
   "cell_type": "markdown",
   "id": "7b4b017d-0703-49b2-96a6-e3cec18bfc22",
   "metadata": {},
   "source": [
    "# Testing Postgres database"
   ]
  },
  {
   "cell_type": "code",
   "execution_count": null,
   "id": "ebf6098d-94b7-4218-bd39-803a4483505c",
   "metadata": {},
   "outputs": [],
   "source": [
    "import psycopg2\n",
    "import pandas as pd"
   ]
  },
  {
   "cell_type": "code",
   "execution_count": null,
   "id": "91bdb3d8-143e-4660-88df-9dafa08fc5ea",
   "metadata": {},
   "outputs": [],
   "source": [
    "# Database connection parameters\n",
    "DB_HOST = \"217.71.200.156\"\n",
    "DB_PORT = \"5433\"\n",
    "DB_NAME = \"esesa\"\n",
    "DB_USER = \"esesa\"\n",
    "DB_PASSWORD = \"esesa\"\n"
   ]
  },
  {
   "cell_type": "code",
   "execution_count": null,
   "id": "b50c6c40-9f49-4789-bc38-de96a3db0aa6",
   "metadata": {},
   "outputs": [],
   "source": [
    "# Establish connection\n",
    "def connect_to_db():\n",
    "    try:\n",
    "        conn = psycopg2.connect(\n",
    "            host=DB_HOST,\n",
    "            port=DB_PORT,\n",
    "            dbname=DB_NAME,\n",
    "            user=DB_USER,\n",
    "            password=DB_PASSWORD\n",
    "        )\n",
    "        print(\"Connection successful\")\n",
    "        return conn\n",
    "    except Exception as e:\n",
    "        print(f\"Error connecting to database: {e}\")\n",
    "        return None"
   ]
  },
  {
   "cell_type": "code",
   "execution_count": null,
   "id": "c6e8d2cc-46c7-4491-80fa-64a09f4618a0",
   "metadata": {},
   "outputs": [],
   "source": [
    "# Example query execution\n",
    "def execute_query(query):\n",
    "    conn = connect_to_db()\n",
    "    if conn:\n",
    "        try:\n",
    "            df = pd.read_sql_query(query, conn)\n",
    "            conn.close()\n",
    "            return df\n",
    "        except Exception as e:\n",
    "            print(f\"Query execution error: {e}\")\n",
    "            conn.close()\n",
    "            return None\n",
    "    return None"
   ]
  },
  {
   "cell_type": "code",
   "execution_count": null,
   "id": "4702ed89-c47b-4261-9288-6d2b816a6549",
   "metadata": {},
   "outputs": [
    {
     "name": "stdout",
     "output_type": "stream",
     "text": [
      "Connection successful\n"
     ]
    },
    {
     "name": "stderr",
     "output_type": "stream",
     "text": [
      "/tmp/ipykernel_39084/814106468.py:6: UserWarning: pandas only supports SQLAlchemy connectable (engine/connection) or database string URI or sqlite3 DBAPI2 connection. Other DBAPI2 objects are not tested. Please consider using SQLAlchemy.\n",
      "  df = pd.read_sql_query(query, conn)\n"
     ]
    },
    {
     "name": "stdout",
     "output_type": "stream",
     "text": [
      "Connection successful\n",
      "Query 1 result:\n",
      "   customer_id  total_rentals  total_amount\n",
      "0          526             45        221.55\n",
      "Query 2 result:\n",
      "        city  store_id  total_sales\n",
      "0  Woodridge         2     33726.77\n"
     ]
    }
   ],
   "source": [
    "# Example queries\n",
    "\n",
    "# Customer with the most money spent\"\n",
    "query_1 = \"\"\"\n",
    "with customer_total_rentals as (\n",
    "                SELECT \n",
    "                    customer_id,\n",
    "                    count(rental_id) as total_rentals,\n",
    "                    sum(amount) as total_amount\n",
    "                FROM fact_rental_payment\n",
    "                GROUP BY customer_id\n",
    "                )\n",
    "\n",
    "                SELECT \n",
    "                    customer_id,\n",
    "                    total_rentals,\n",
    "                    total_amount\n",
    "                FROM customer_total_rentals\n",
    "                WHERE total_amount = (SELECT max(total_amount) FROM customer_total_rentals);\n",
    "\"\"\"\n",
    "\n",
    "# City where the store with the most sales is located\"\n",
    "query_2 = \"\"\"\n",
    "    with store_total_sales as (\n",
    "                    SELECT store_id\n",
    "                            ,sum(amount) as total_sales\n",
    "                    FROM fact_rental_payment\n",
    "                    GROUP BY store_id\n",
    "                    ),\n",
    "\n",
    "                    store_city as (\n",
    "                        SELECT \n",
    "                            s.store_id,\n",
    "                            s.address_id,\n",
    "                            a.city_id,\n",
    "                            c.city\n",
    "                        FROM store s,\n",
    "                        address a,\n",
    "                        city c \n",
    "                        WHERE s.address_id = a.address_id\n",
    "                        AND a.city_id = c.city_id\n",
    "                    )\n",
    "\n",
    "                    SELECT \n",
    "                        st.city,\n",
    "                        s.store_id,\n",
    "                        s.total_sales\n",
    "                    FROM store_total_sales s \n",
    "                    JOIN store_city st ON s.store_id = st.store_id\n",
    "                    WHERE total_sales = (SELECT max(total_sales) FROM store_total_sales);\n",
    "\"\"\"\n",
    "    \n",
    "result_1 = execute_query(query_1)\n",
    "result_2 = execute_query(query_2)\n",
    "\n",
    "if result_1 is not None:\n",
    "    print(\"Query 1 result:\")\n",
    "    print(result_1)\n",
    "\n",
    "if result_2 is not None:\n",
    "    print(\"Query 2 result:\")\n",
    "    print(result_2)\n"
   ]
  },
  {
   "cell_type": "code",
   "execution_count": null,
   "id": "ff5e8e98-7edf-4715-8b39-54d1a37d8547",
   "metadata": {},
   "outputs": [],
   "source": []
  }
 ],
 "metadata": {
  "kernelspec": {
   "display_name": "llms",
   "language": "python",
   "name": "llms"
  },
  "language_info": {
   "codemirror_mode": {
    "name": "ipython",
    "version": 3
   },
   "file_extension": ".py",
   "mimetype": "text/x-python",
   "name": "python",
   "nbconvert_exporter": "python",
   "pygments_lexer": "ipython3",
   "version": "3.11.11"
  }
 },
 "nbformat": 4,
 "nbformat_minor": 5
}
