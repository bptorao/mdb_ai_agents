{
 "cells": [
  {
   "cell_type": "markdown",
   "id": "c31f3745-a7e4-46aa-acd0-c03fa9099fc1",
   "metadata": {},
   "source": [
    "## Testeando API ChatGPT"
   ]
  },
  {
   "cell_type": "code",
   "execution_count": null,
   "id": "f6a409d3-4767-4979-849f-440acbd07f8b",
   "metadata": {},
   "outputs": [],
   "source": [
    "# imports\n",
    "\n",
    "import os\n",
    "import requests\n",
    "from dotenv import load_dotenv\n",
    "from bs4 import BeautifulSoup\n",
    "from IPython.display import Markdown, display\n",
    "from openai import OpenAI\n"
   ]
  },
  {
   "cell_type": "code",
   "execution_count": null,
   "id": "6666a4b0-e28c-4f1e-8726-71dddec9d9cf",
   "metadata": {},
   "outputs": [],
   "source": [
    "load_dotenv()\n",
    "api_key = os.getenv('OPENAI_API_KEY')"
   ]
  },
  {
   "cell_type": "code",
   "execution_count": null,
   "id": "97a902a4-226c-4c17-958d-fadaaf8204b7",
   "metadata": {},
   "outputs": [],
   "source": [
    "# Una clase para representar una página web\n",
    "\n",
    "class Website:\n",
    "    \"\"\"\n",
    "    Una clase para representar un sitio web que hemos scrappeado\n",
    "    \"\"\"\n",
    "\n",
    "    def __init__(self, url):\n",
    "        \"\"\"\n",
    "        Crea este objeto de sitio web a partir de la URL indicada utilizando la biblioteca BeautifulSoup\n",
    "        \"\"\"\n",
    "        self.url = url\n",
    "        headers = {\"accept-language\": \"en-US,en;q=0.9\",\"accept-encoding\": \"gzip, deflate, br\",\"User-Agent\":\"Mozilla/5.0 (Windows NT 10.0; Win64; x64) AppleWebKit/537.36 (KHTML, like Gecko) Chrome/111.0.0.0 Safari/537.36\",\"accept\": \"text/html,application/xhtml+xml,application/xml;q=0.9,image/avif,image/webp,image/apng,*/*;q=0.8,application/signed-exchange;v=b3;q=0.7\"}\n",
    "        response = requests.get(url,headers=headers)\n",
    "        print(response.status_code)\n",
    "        soup = BeautifulSoup(response.text, 'html.parser')\n",
    "        self.title = soup.title.string if soup.title else \"No tiene título\"\n",
    "        for irrelevant in soup.body([\"script\", \"style\", \"img\", \"input\"]):\n",
    "            irrelevant.decompose()\n",
    "        self.text = soup.body.get_text(separator=\"\\n\", strip=True)\n"
   ]
  },
  {
   "cell_type": "code",
   "execution_count": null,
   "id": "3698d149-7345-41cd-9837-bb39431b206d",
   "metadata": {},
   "outputs": [],
   "source": [
    "# Vamos a probar\n",
    "\n",
    "\n",
    "web = Website(\"https://esesa.eu\")\n",
    "print(web.title)\n",
    "print(web.text)"
   ]
  },
  {
   "cell_type": "markdown",
   "id": "41d519d7-58a1-4880-932f-e31f2fa83935",
   "metadata": {},
   "source": [
    "## Tipos de indicaciones/prompts\n",
    "\n",
    "Los modelos como GPT4o han sido entrenados para recibir instrucciones de una manera particular.\n",
    "\n",
    "Esperan recibir:\n",
    "\n",
    "**Una indicación del sistema** que les indique qué tarea están realizando y qué tono deben usar\n",
    "\n",
    "**Una indicación del usuario**: el inicio de la conversación al que deben responder"
   ]
  },
  {
   "cell_type": "code",
   "execution_count": null,
   "id": "83953957-fd15-4e3d-8ad0-f18865ca28d7",
   "metadata": {},
   "outputs": [],
   "source": [
    "# Define nuestro mensaje de sistema: puedes experimentar con esto más tarde, cambiando la última oración a \"Responder en Markdown en español\".\n",
    "\n",
    "system_prompt = \"Eres un asistente que analiza el contenido de un sitio web \\\n",
    "y proporciona un breve resumen, ignorando el texto que podría estar relacionado con la navegación. \\\n",
    "Responder en Markdown.\""
   ]
  },
  {
   "cell_type": "code",
   "execution_count": null,
   "id": "026ff0ef-be31-41f3-8ea2-472214bb5076",
   "metadata": {},
   "outputs": [],
   "source": [
    "# Una función que escribe un mensaje de usuario que solicita resúmenes de sitios web:\n",
    "\n",
    "def user_prompt_for(website):\n",
    "    user_prompt = f\"Estás viendo un sitio web titulado {website.title}\"\n",
    "    user_prompt += \"\\nEl contenido de este sitio web es el siguiente; \\\n",
    "    proporciona un breve resumen de este sitio web en formato Markdown. \\\n",
    "    Si incluye noticias, productos o anuncios, resúmelos también.\\n\\n\"\n",
    "    user_prompt += website.text\n",
    "    return user_prompt"
   ]
  },
  {
   "cell_type": "code",
   "execution_count": null,
   "id": "de0aa2a3-0b36-43f8-9ae0-6ee701be9900",
   "metadata": {},
   "outputs": [],
   "source": [
    "print(user_prompt_for(web))"
   ]
  },
  {
   "cell_type": "markdown",
   "id": "6fb2657f-6353-460b-9493-61242f3ef251",
   "metadata": {},
   "source": [
    "## Mensajes\n",
    "\n",
    "La API de OpenAI espera recibir mensajes en una estructura particular.\n",
    "Muchas de las otras API comparten esta estructura:\n",
    "\n",
    "```\n",
    "[\n",
    "    {\"role\": \"system\", \"content\": \"el mensaje de sistema va aquí\"},\n",
    "    {\"role\": \"user\", \"content\": \"el mensaje de usuario va aquí\"}\n",
    "]"
   ]
  },
  {
   "cell_type": "code",
   "execution_count": null,
   "id": "67f5765a-1a5e-4494-b76d-ffb9237bf14a",
   "metadata": {},
   "outputs": [],
   "source": [
    "# Puedes ver cómo esta función crea exactamente el formato anterior\n",
    "\n",
    "def messages_for(website):\n",
    "    return [\n",
    "        {\"role\": \"system\", \"content\": system_prompt},\n",
    "        {\"role\": \"user\", \"content\": user_prompt_for(website)}\n",
    "    ]"
   ]
  },
  {
   "cell_type": "code",
   "execution_count": null,
   "id": "e8c5c484-4010-462a-93e6-e1aa24f71481",
   "metadata": {},
   "outputs": [],
   "source": [
    "messages_for(web)"
   ]
  },
  {
   "cell_type": "code",
   "execution_count": null,
   "id": "27cf6595-1845-479c-b206-fd12357e4b8d",
   "metadata": {},
   "outputs": [],
   "source": [
    "# Y ahora: llama a la API de OpenAI.\n",
    "\n",
    "def summarize(url):\n",
    "    website = Website(url)\n",
    "    response = openai.chat.completions.create(\n",
    "        model = \"gpt-4o-mini\",\n",
    "        messages = messages_for(website)\n",
    "    )\n",
    "    return response.choices[0].message.content"
   ]
  },
  {
   "cell_type": "code",
   "execution_count": null,
   "id": "ad3713a2-a7f9-45e0-a9a2-f7f6b34c0e30",
   "metadata": {},
   "outputs": [],
   "source": [
    "summarize(\"https://esesa.eu\")"
   ]
  },
  {
   "cell_type": "code",
   "execution_count": null,
   "id": "db1ea3ba-a1cd-42d6-832b-4266b6bfb019",
   "metadata": {},
   "outputs": [],
   "source": [
    "# Una función para mostrar esto de forma clara en la salida de Jupyter, usando markdown\n",
    "\n",
    "def display_summary(url):\n",
    "    summary = summarize(url)\n",
    "    display(Markdown(summary))"
   ]
  },
  {
   "cell_type": "code",
   "execution_count": null,
   "id": "590e690c-76ac-4254-949d-62cb2cdbc3f9",
   "metadata": {},
   "outputs": [],
   "source": [
    "display_summary(\"https://esesa.eu\")"
   ]
  }
 ],
 "metadata": {
  "kernelspec": {
   "display_name": "Python 3 (ipykernel)",
   "language": "python",
   "name": "python3"
  },
  "language_info": {
   "codemirror_mode": {
    "name": "ipython",
    "version": 3
   },
   "file_extension": ".py",
   "mimetype": "text/x-python",
   "name": "python",
   "nbconvert_exporter": "python",
   "pygments_lexer": "ipython3",
   "version": "3.11.11"
  }
 },
 "nbformat": 4,
 "nbformat_minor": 5
}
